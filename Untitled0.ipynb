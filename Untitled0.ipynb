{
  "nbformat": 4,
  "nbformat_minor": 0,
  "metadata": {
    "colab": {
      "provenance": [],
      "toc_visible": true,
      "authorship_tag": "ABX9TyOY+BvuBjNz+ZUOKUo7qcqU",
      "include_colab_link": true
    },
    "kernelspec": {
      "name": "python3",
      "display_name": "Python 3"
    },
    "language_info": {
      "name": "python"
    }
  },
  "cells": [
    {
      "cell_type": "markdown",
      "metadata": {
        "id": "view-in-github",
        "colab_type": "text"
      },
      "source": [
        "<a href=\"https://colab.research.google.com/github/nawanemacano/Projetos-iniciais-Python-Google-Colab/blob/main/Untitled0.ipynb\" target=\"_parent\"><img src=\"https://colab.research.google.com/assets/colab-badge.svg\" alt=\"Open In Colab\"/></a>"
      ]
    },
    {
      "cell_type": "markdown",
      "source": [
        "Meu primeiro projeto em Python\n",
        "\n",
        "\n"
      ],
      "metadata": {
        "id": "6uqLCAi2GKwT"
      }
    },
    {
      "cell_type": "code",
      "execution_count": 7,
      "metadata": {
        "colab": {
          "base_uri": "https://localhost:8080/"
        },
        "id": "ByKtMihKF1T2",
        "outputId": "1479d3a2-8292-48eb-ed0b-9bad5221dc47"
      },
      "outputs": [
        {
          "output_type": "stream",
          "name": "stdout",
          "text": [
            "Hello, World!\n"
          ]
        }
      ],
      "source": [
        "\n",
        "print (\"Hello, World!\")"
      ]
    },
    {
      "cell_type": "markdown",
      "source": [
        "Operadores Aritméticos em Python\n",
        "\n",
        "+ adição\n",
        "- subtração\n",
        "* multiplicação\n",
        "/ divisão\n",
        "** exponenciação\n",
        "// divisão (resultado inteiro)"
      ],
      "metadata": {
        "id": "Gx0r73NaJXVj"
      }
    },
    {
      "cell_type": "code",
      "source": [
        "# adição\n",
        "2 + 4 + 6 + 10\n"
      ],
      "metadata": {
        "colab": {
          "base_uri": "https://localhost:8080/"
        },
        "id": "t-5e39fJIiDC",
        "outputId": "ad3b2395-d634-476a-94d0-903a5b0be3b6"
      },
      "execution_count": 8,
      "outputs": [
        {
          "output_type": "execute_result",
          "data": {
            "text/plain": [
              "22"
            ]
          },
          "metadata": {},
          "execution_count": 8
        }
      ]
    },
    {
      "cell_type": "code",
      "source": [
        "#subtração\n",
        "87 - 100"
      ],
      "metadata": {
        "colab": {
          "base_uri": "https://localhost:8080/"
        },
        "id": "HDBc0nEhJ75w",
        "outputId": "307e8f27-949b-4897-a083-d9424f3d2dd8"
      },
      "execution_count": 9,
      "outputs": [
        {
          "output_type": "execute_result",
          "data": {
            "text/plain": [
              "-13"
            ]
          },
          "metadata": {},
          "execution_count": 9
        }
      ]
    },
    {
      "cell_type": "code",
      "source": [
        "# divisão\n",
        "70/3"
      ],
      "metadata": {
        "colab": {
          "base_uri": "https://localhost:8080/"
        },
        "id": "oeiYY5BqKWjG",
        "outputId": "72017e46-7a0c-49e1-b914-b1c634a63c36"
      },
      "execution_count": 10,
      "outputs": [
        {
          "output_type": "execute_result",
          "data": {
            "text/plain": [
              "23.333333333333332"
            ]
          },
          "metadata": {},
          "execution_count": 10
        }
      ]
    },
    {
      "cell_type": "code",
      "source": [
        "# divisão (resultado inteiro)\n",
        "\n",
        "70//3"
      ],
      "metadata": {
        "colab": {
          "base_uri": "https://localhost:8080/"
        },
        "id": "l_plx1LtKeXv",
        "outputId": "98df1bf6-e3a2-4265-d3ba-f61cb75811df"
      },
      "execution_count": 11,
      "outputs": [
        {
          "output_type": "execute_result",
          "data": {
            "text/plain": [
              "23"
            ]
          },
          "metadata": {},
          "execution_count": 11
        }
      ]
    },
    {
      "cell_type": "code",
      "source": [
        "70 % 3 (resto da divisão)"
      ],
      "metadata": {
        "colab": {
          "base_uri": "https://localhost:8080/"
        },
        "id": "oiCx0Q_CKmrX",
        "outputId": "ee58c245-3a4b-4b43-f0ae-6c88540f598f"
      },
      "execution_count": 12,
      "outputs": [
        {
          "output_type": "execute_result",
          "data": {
            "text/plain": [
              "1"
            ]
          },
          "metadata": {},
          "execution_count": 12
        }
      ]
    },
    {
      "cell_type": "code",
      "source": [
        "# exponenciação (elevar alguma coisa)\n",
        "\n",
        "7 ** 2"
      ],
      "metadata": {
        "colab": {
          "base_uri": "https://localhost:8080/"
        },
        "id": "haQx_ac0Krto",
        "outputId": "4d630067-fd4d-430a-bd23-f14b8591594a"
      },
      "execution_count": 14,
      "outputs": [
        {
          "output_type": "execute_result",
          "data": {
            "text/plain": [
              "49"
            ]
          },
          "metadata": {},
          "execution_count": 14
        }
      ]
    },
    {
      "cell_type": "markdown",
      "source": [
        "Ordem de precedencia\n",
        "\n",
        "1º parenteses\n",
        "2º expoentes\n",
        "3º multiplicação e divisão\n",
        "4º soma e subtração"
      ],
      "metadata": {
        "id": "zToNj4fjK_Rw"
      }
    },
    {
      "cell_type": "code",
      "source": [
        "(3 + 10) * 3"
      ],
      "metadata": {
        "colab": {
          "base_uri": "https://localhost:8080/"
        },
        "id": "aMlR3Ew_K44B",
        "outputId": "c1fb4fda-632f-42f1-c7db-57328f4c7305"
      },
      "execution_count": 15,
      "outputs": [
        {
          "output_type": "execute_result",
          "data": {
            "text/plain": [
              "39"
            ]
          },
          "metadata": {},
          "execution_count": 15
        }
      ]
    },
    {
      "cell_type": "markdown",
      "source": [
        "Calcule a média simples das notas das 3 provas de matematica\n",
        "\n",
        "- Nota 1 = 8,5\n",
        "- Nota 2 = 9,2\n",
        "- Nota 3 = 7,5"
      ],
      "metadata": {
        "id": "cVjPQ-_qLoqd"
      }
    },
    {
      "cell_type": "code",
      "source": [
        "#resposta\n",
        "\n",
        "(8.5 + 9.2 + 7.5) / 3"
      ],
      "metadata": {
        "colab": {
          "base_uri": "https://localhost:8080/"
        },
        "id": "5zkoCc41LuWE",
        "outputId": "414c7b17-2563-4c4d-f076-3b7f02a92f2d"
      },
      "execution_count": 17,
      "outputs": [
        {
          "output_type": "execute_result",
          "data": {
            "text/plain": [
              "8.4"
            ]
          },
          "metadata": {},
          "execution_count": 17
        }
      ]
    }
  ]
}