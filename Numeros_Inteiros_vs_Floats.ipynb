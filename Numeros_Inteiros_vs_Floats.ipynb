{
  "nbformat": 4,
  "nbformat_minor": 0,
  "metadata": {
    "colab": {
      "provenance": [],
      "authorship_tag": "ABX9TyPqjrviNCyfl4LbQQbi77uO",
      "include_colab_link": true
    },
    "kernelspec": {
      "name": "python3",
      "display_name": "Python 3"
    },
    "language_info": {
      "name": "python"
    }
  },
  "cells": [
    {
      "cell_type": "markdown",
      "metadata": {
        "id": "view-in-github",
        "colab_type": "text"
      },
      "source": [
        "<a href=\"https://colab.research.google.com/github/nawanemacano/Projetos-iniciais-Python-Google-Colab/blob/main/Numeros_Inteiros_vs_Floats.ipynb\" target=\"_parent\"><img src=\"https://colab.research.google.com/assets/colab-badge.svg\" alt=\"Open In Colab\"/></a>"
      ]
    },
    {
      "cell_type": "markdown",
      "source": [
        "**Inteiros e Floats**\n",
        "\n",
        "Os números inteiros (como 5, 4, 33) são do tipo int, enquanto aqueles números que carregam uma parte fracional (como 5.5, 3.33, 3.14, 5.0) são do tipo float. No começo, lidar com tipos de números pode ser confuso, mas a prática vai fazer você entender.\n",
        "\n",
        "Para saber o tipo de uma variável, você pode usar a função type.\n",
        "\n",
        "No primeiro exemplo, vemos que o número 5 não possui parte fracional, por isso, é um inteiro."
      ],
      "metadata": {
        "id": "Yz00cTTg8WA8"
      }
    },
    {
      "cell_type": "code",
      "execution_count": 1,
      "metadata": {
        "colab": {
          "base_uri": "https://localhost:8080/"
        },
        "id": "pp5eSZPg8UFP",
        "outputId": "08cd6c67-d3ff-4e15-86cb-69b916d4bbd5"
      },
      "outputs": [
        {
          "output_type": "execute_result",
          "data": {
            "text/plain": [
              "int"
            ]
          },
          "metadata": {},
          "execution_count": 1
        }
      ],
      "source": [
        "# verificando o tipo. Aqui, o 5 é inteiro.\n",
        "type(5)"
      ]
    },
    {
      "cell_type": "markdown",
      "source": [
        "Quando adicionamos uma parte fracional, o número se torna um float."
      ],
      "metadata": {
        "id": "xeg5oM7v8rEI"
      }
    },
    {
      "cell_type": "code",
      "source": [
        "# a variável abc representa o número 44.44, que tem parte fracional, portanto, float.\n",
        "abc = 44.44\n",
        "type(abc)"
      ],
      "metadata": {
        "colab": {
          "base_uri": "https://localhost:8080/"
        },
        "id": "7HgWQIYB8r6K",
        "outputId": "cea04e9f-b26d-47eb-eedf-1f3c62b93feb"
      },
      "execution_count": 2,
      "outputs": [
        {
          "output_type": "execute_result",
          "data": {
            "text/plain": [
              "float"
            ]
          },
          "metadata": {},
          "execution_count": 2
        }
      ]
    },
    {
      "cell_type": "markdown",
      "source": [
        "Caso adicionemos parte fracional ao nosso 5 (int), ele passa a ser um float, mesmo que a parte fracional seja 0."
      ],
      "metadata": {
        "id": "lekO4sO18w98"
      }
    },
    {
      "cell_type": "code",
      "source": [
        "# aqui o 5.0 é um float.\n",
        "type(5.0)"
      ],
      "metadata": {
        "colab": {
          "base_uri": "https://localhost:8080/"
        },
        "id": "9kW1-Yuq8021",
        "outputId": "6482ec89-0fcf-4dbc-9e66-3a7cf3e0adaf"
      },
      "execution_count": 3,
      "outputs": [
        {
          "output_type": "execute_result",
          "data": {
            "text/plain": [
              "float"
            ]
          },
          "metadata": {},
          "execution_count": 3
        }
      ]
    },
    {
      "cell_type": "markdown",
      "source": [
        "Em mais um exemplo podemos ver que pi é um número com parte fracional, portanto, float."
      ],
      "metadata": {
        "id": "hCPQ7DtZ83Xr"
      }
    },
    {
      "cell_type": "code",
      "source": [
        "pi = 3.14\n",
        "type(pi)"
      ],
      "metadata": {
        "colab": {
          "base_uri": "https://localhost:8080/"
        },
        "id": "J3w2Teuv8539",
        "outputId": "f28033e4-1c72-49b8-e686-c949c99f232c"
      },
      "execution_count": 4,
      "outputs": [
        {
          "output_type": "execute_result",
          "data": {
            "text/plain": [
              "float"
            ]
          },
          "metadata": {},
          "execution_count": 4
        }
      ]
    },
    {
      "cell_type": "markdown",
      "source": [
        "Na documentação oficial do Python encontramos que ao fazer a divisão de números inteiros, temos por resultado um número float, mesmo que a divisão seja inteira."
      ],
      "metadata": {
        "id": "KLz7PD_K89sZ"
      }
    },
    {
      "cell_type": "code",
      "source": [
        "# divisão de inteiros\n",
        "y = 3 / 3\n",
        "print(y)\n",
        "type(y)"
      ],
      "metadata": {
        "colab": {
          "base_uri": "https://localhost:8080/"
        },
        "id": "XgRCkD_k9APG",
        "outputId": "8c476c13-264f-4cb2-e758-3b45a5ca3942"
      },
      "execution_count": 5,
      "outputs": [
        {
          "output_type": "stream",
          "name": "stdout",
          "text": [
            "1.0\n"
          ]
        },
        {
          "output_type": "execute_result",
          "data": {
            "text/plain": [
              "float"
            ]
          },
          "metadata": {},
          "execution_count": 5
        }
      ]
    },
    {
      "cell_type": "code",
      "source": [
        "# uma divisão SEMPRE vai retornar um float como resultado\n",
        "print(type(3 / 3))\n",
        "print(type(10.0 / 5))\n",
        "print(type(10.0 / 2.0))"
      ],
      "metadata": {
        "colab": {
          "base_uri": "https://localhost:8080/"
        },
        "id": "4Osg1tgl9GsE",
        "outputId": "bceae0fd-d576-46f3-828b-b42437354307"
      },
      "execution_count": 6,
      "outputs": [
        {
          "output_type": "stream",
          "name": "stdout",
          "text": [
            "<class 'float'>\n",
            "<class 'float'>\n",
            "<class 'float'>\n"
          ]
        }
      ]
    },
    {
      "cell_type": "markdown",
      "source": [
        "Existem momentos em que você vai querer converter um float em int. Isso pode ser feito com int(). O mesmo vale para a operação contrário, bastando indicar a variável dentro dos parênteses."
      ],
      "metadata": {
        "id": "H7pHqExr9LRD"
      }
    },
    {
      "cell_type": "code",
      "source": [
        "idade = 35.00\n",
        "type(idade)\n",
        "\n"
      ],
      "metadata": {
        "colab": {
          "base_uri": "https://localhost:8080/"
        },
        "id": "IXe-kakD9OUz",
        "outputId": "bdbcce46-1cb5-414e-885c-36619cc92688"
      },
      "execution_count": 7,
      "outputs": [
        {
          "output_type": "execute_result",
          "data": {
            "text/plain": [
              "float"
            ]
          },
          "metadata": {},
          "execution_count": 7
        }
      ]
    },
    {
      "cell_type": "code",
      "source": [
        "# converter\n",
        "idade = int(idade)\n",
        "type(idade)"
      ],
      "metadata": {
        "colab": {
          "base_uri": "https://localhost:8080/"
        },
        "id": "7GM03kNT9SxU",
        "outputId": "73ce491e-7e16-45f9-98f6-d2b83b476f3a"
      },
      "execution_count": 8,
      "outputs": [
        {
          "output_type": "execute_result",
          "data": {
            "text/plain": [
              "int"
            ]
          },
          "metadata": {},
          "execution_count": 8
        }
      ]
    },
    {
      "cell_type": "code",
      "source": [
        "float(3)"
      ],
      "metadata": {
        "colab": {
          "base_uri": "https://localhost:8080/"
        },
        "id": "oHI3Yj8d9U2y",
        "outputId": "43708a3b-0d43-494a-d4d3-8bedd6ec179a"
      },
      "execution_count": 9,
      "outputs": [
        {
          "output_type": "execute_result",
          "data": {
            "text/plain": [
              "3.0"
            ]
          },
          "metadata": {},
          "execution_count": 9
        }
      ]
    },
    {
      "cell_type": "markdown",
      "source": [
        "Existe ainda uma opção quando eu quero realizar uma divisão, porém quero ficar apenas com a parte inteira de um número, descartando toda a parte fracionária. Essa operação pode ser feita usando //.\n",
        "\n"
      ],
      "metadata": {
        "id": "52clVZrj9XVD"
      }
    },
    {
      "cell_type": "code",
      "source": [
        "print(11 / 3)  # divisão normal com /\n",
        "print(11 // 3) # divisão usando //"
      ],
      "metadata": {
        "colab": {
          "base_uri": "https://localhost:8080/"
        },
        "id": "x8qJlvlG9ah6",
        "outputId": "64ee5867-0863-4109-ce00-6717ed117186"
      },
      "execution_count": 10,
      "outputs": [
        {
          "output_type": "stream",
          "name": "stdout",
          "text": [
            "3.6666666666666665\n",
            "3\n"
          ]
        }
      ]
    }
  ]
}