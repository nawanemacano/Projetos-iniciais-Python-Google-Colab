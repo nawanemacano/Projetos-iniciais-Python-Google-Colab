{
  "nbformat": 4,
  "nbformat_minor": 0,
  "metadata": {
    "colab": {
      "provenance": [],
      "authorship_tag": "ABX9TyPR4ODHNPJw6CJ+hFGWm5ZN",
      "include_colab_link": true
    },
    "kernelspec": {
      "name": "python3",
      "display_name": "Python 3"
    },
    "language_info": {
      "name": "python"
    }
  },
  "cells": [
    {
      "cell_type": "markdown",
      "metadata": {
        "id": "view-in-github",
        "colab_type": "text"
      },
      "source": [
        "<a href=\"https://colab.research.google.com/github/nawanemacano/Projetos-iniciais-Python-Google-Colab/blob/main/Formul%C3%A1rio.ipynb\" target=\"_parent\"><img src=\"https://colab.research.google.com/assets/colab-badge.svg\" alt=\"Open In Colab\"/></a>"
      ]
    },
    {
      "cell_type": "code",
      "execution_count": null,
      "metadata": {
        "id": "P82VCNgcPEnX"
      },
      "outputs": [],
      "source": [
        "# @title Formulário Python na Prática\n",
        "#@markdown Se cadastre para receber nossas novidades!\n",
        "\n",
        "\n",
        "Nome  = 'Seu Nome'  #@param {type: \"string\"}\n",
        "Idade  = 37  #@param {type: \"slider\", min: 18, max: 100}\n",
        "Número de celular = 0012345678  #@param {type: \"number\"}\n",
        "Data de nascimento = '2010-11-02'  #@param {type: \"date\"}\n",
        "Que dia da semana é hoje? = \"wednesday\"  #@param ['monday', 'tuesday', 'wednesday', 'thursday', 'friday', 'saturday', 'sunday']\n",
        "# @markdown Enviar\n"
      ]
    }
  ]
}