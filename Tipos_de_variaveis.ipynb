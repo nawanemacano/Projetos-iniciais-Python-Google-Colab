{
  "nbformat": 4,
  "nbformat_minor": 0,
  "metadata": {
    "colab": {
      "provenance": [],
      "authorship_tag": "ABX9TyOa8K4HDfUV6qPZgBbZvT/o",
      "include_colab_link": true
    },
    "kernelspec": {
      "name": "python3",
      "display_name": "Python 3"
    },
    "language_info": {
      "name": "python"
    }
  },
  "cells": [
    {
      "cell_type": "markdown",
      "metadata": {
        "id": "view-in-github",
        "colab_type": "text"
      },
      "source": [
        "<a href=\"https://colab.research.google.com/github/nawanemacano/Projetos-iniciais-Python-Google-Colab/blob/main/Tipos_de_variaveis.ipynb\" target=\"_parent\"><img src=\"https://colab.research.google.com/assets/colab-badge.svg\" alt=\"Open In Colab\"/></a>"
      ]
    },
    {
      "cell_type": "code",
      "execution_count": 3,
      "metadata": {
        "id": "OlH9xvQRNNMB",
        "colab": {
          "base_uri": "https://localhost:8080/"
        },
        "outputId": "4fa72b97-77ee-4a4a-92da-c05c463c522a"
      },
      "outputs": [
        {
          "output_type": "stream",
          "name": "stdout",
          "text": [
            "Valor x: 300\n"
          ]
        }
      ],
      "source": [
        "# associando o número 300 à variavel\n",
        "\n",
        "x = 300\n",
        "\n",
        "print (\"Valor x:\" , x )"
      ]
    },
    {
      "cell_type": "markdown",
      "source": [
        "**Tipos de Variáveis**\n",
        "\n",
        "Além de utilizarmos integer, ou inteiros, podemos usar outros tipos de variaveis como strings, ou float"
      ],
      "metadata": {
        "id": "fR6e9377FVSS"
      }
    },
    {
      "cell_type": "markdown",
      "source": [
        "**Integers**\n",
        "\n",
        "Para utilizar inteiros, basta criar a variavel como tal, sem valores decimais."
      ],
      "metadata": {
        "id": "PVeKp42xF4m5"
      }
    },
    {
      "cell_type": "code",
      "source": [
        "# integers\n",
        "\n",
        "x = 50\n",
        "print(x)"
      ],
      "metadata": {
        "colab": {
          "base_uri": "https://localhost:8080/"
        },
        "id": "1IRObdg8GAXr",
        "outputId": "2ea4e0f3-a07a-4437-9868-ebc28e263368"
      },
      "execution_count": 4,
      "outputs": [
        {
          "output_type": "stream",
          "name": "stdout",
          "text": [
            "50\n"
          ]
        }
      ]
    },
    {
      "cell_type": "markdown",
      "source": [
        "**Floats**\n",
        "\n",
        "Ao utilizar floats, precisamos ter cuidado com um detakhe. A virgula em Python serve para enumeração, e não para casas decimais.\n",
        "Para definis casas decimais, vamos utilizar o ponto .\n",
        "Para criar um floar basta associar à variavel um número que possua casa decima,.\n"
      ],
      "metadata": {
        "id": "yvar_03BGIHo"
      }
    },
    {
      "cell_type": "code",
      "source": [
        "# float\n",
        "\n",
        "x = 25.8\n",
        "print(x)"
      ],
      "metadata": {
        "colab": {
          "base_uri": "https://localhost:8080/"
        },
        "id": "TZm5xBMFGgKl",
        "outputId": "939f33b1-fb2a-4b21-fedf-a337956e151a"
      },
      "execution_count": 5,
      "outputs": [
        {
          "output_type": "stream",
          "name": "stdout",
          "text": [
            "25.8\n"
          ]
        }
      ]
    },
    {
      "cell_type": "markdown",
      "source": [
        "**Strings**\n",
        "\n",
        "Strins são nossa linguagem natural, utilizando caracteres e palavras.\n",
        "Para criar strings, precisamos colocar nosso conteúdo em parenteses."
      ],
      "metadata": {
        "id": "t-0KDZSYGpKI"
      }
    },
    {
      "cell_type": "code",
      "source": [
        "# strings\n",
        "\n",
        "x = \"Data Sciene é a profissão do futuro\"\n",
        "print(x)\n",
        "\n",
        "type(x)"
      ],
      "metadata": {
        "colab": {
          "base_uri": "https://localhost:8080/"
        },
        "id": "X36NVK31Gy5F",
        "outputId": "abe40399-91fe-4419-ea36-9278a2f9f34e"
      },
      "execution_count": 8,
      "outputs": [
        {
          "output_type": "stream",
          "name": "stdout",
          "text": [
            "Data Sciene é a profissão do futuro\n"
          ]
        },
        {
          "output_type": "execute_result",
          "data": {
            "text/plain": [
              "str"
            ]
          },
          "metadata": {},
          "execution_count": 8
        }
      ]
    },
    {
      "cell_type": "markdown",
      "source": [
        "**Verificando o tipo de variavel**\n",
        "\n",
        "É claro que voce vai sempre criar as variaveis da forma desejada, e segundo os padroes para nao encontrar erros ou problemas no futuro.\n",
        "Entretanto, não é incomum encontrarmos, por exemplo, números de que estão em formato string, e por isso, se comportarão como texto, não permitindo operações matemáticas por exemplo.\n",
        "\n",
        "Para que possamos descobrir o tipo das nossas variáveis, temos a função type."
      ],
      "metadata": {
        "id": "nzFMRlvdG9zQ"
      }
    },
    {
      "cell_type": "code",
      "source": [
        "# imprimindo a variavel\n",
        "\n",
        "x = 100.0\n",
        "print(x)\n",
        "\n",
        "# verificando o tipo\n",
        "\n",
        "type(x)"
      ],
      "metadata": {
        "colab": {
          "base_uri": "https://localhost:8080/"
        },
        "id": "jLTTOrSEHYri",
        "outputId": "635c2615-0f0c-4534-c3f6-a7db6ee7c4f5"
      },
      "execution_count": 7,
      "outputs": [
        {
          "output_type": "stream",
          "name": "stdout",
          "text": [
            "100.0\n"
          ]
        },
        {
          "output_type": "execute_result",
          "data": {
            "text/plain": [
              "float"
            ]
          },
          "metadata": {},
          "execution_count": 7
        }
      ]
    },
    {
      "cell_type": "markdown",
      "source": [
        "**Criando variaveis a partir de variaveis**\n",
        "\n",
        "Também podemos criar cópias das variaveis, associando novas variaveis a ela.\n",
        "\n",
        "Isso nos permite explorar a variável sem alterar a original."
      ],
      "metadata": {
        "id": "akTEBJfKHjl4"
      }
    },
    {
      "cell_type": "code",
      "source": [
        "# criando uma variavel através da variável original\n",
        "\n",
        "print (\"Variavel x:\", x)\n",
        "\n",
        "y = x\n",
        "\n",
        "print(\"Variavel y:\", y)"
      ],
      "metadata": {
        "colab": {
          "base_uri": "https://localhost:8080/"
        },
        "id": "tcEiXztzL0ZI",
        "outputId": "da2d7e29-f374-4572-9454-557c96280e32"
      },
      "execution_count": 9,
      "outputs": [
        {
          "output_type": "stream",
          "name": "stdout",
          "text": [
            "Variavel x: Data Sciene é a profissão do futuro\n",
            "Variavel y: Data Sciene é a profissão do futuro\n"
          ]
        }
      ]
    },
    {
      "cell_type": "markdown",
      "source": [
        "**OBS**\n",
        "\n",
        "É importante entender que o relacionamento entre as duas acaba no momento da associação.\n",
        "\n",
        "Após isso, elas funcionam independentes uma da outra, portanto, alterações feitas em uma não afetam a outra."
      ],
      "metadata": {
        "id": "5e3bsvfQMPJl"
      }
    },
    {
      "cell_type": "code",
      "source": [
        "# criando as variaveis\n",
        "\n",
        "print (\"Criando as variaveis\")\n",
        "x = 10\n",
        "\n",
        "y = x\n",
        "\n",
        "# resultado\n",
        "\n",
        "print(\"x\", x)\n",
        "print(\"y\", y)\n",
        "\n",
        "print(\"\\nTransformação x = y + 10\")\n",
        "x = y + 10\n",
        "\n",
        "# resultado\n",
        "\n",
        "print(\"\\nTransformação y = y/2\")\n",
        "y = y/2\n",
        "\n",
        "# resultado\n",
        "\n",
        "print(\"x:\", x)\n",
        "print(\"Novo y:\", y)\n"
      ],
      "metadata": {
        "colab": {
          "base_uri": "https://localhost:8080/"
        },
        "id": "TPX6zEiXMQ04",
        "outputId": "84c736fe-8419-4c37-bf04-86163ecd6cfe"
      },
      "execution_count": 10,
      "outputs": [
        {
          "output_type": "stream",
          "name": "stdout",
          "text": [
            "Criando as variaveis\n",
            "x 10\n",
            "y 10\n",
            "\n",
            "Transformação x = y + 10\n",
            "\n",
            "Transformação y = y/2\n",
            "x: 20\n",
            "Novo y: 5.0\n"
          ]
        }
      ]
    }
  ]
}